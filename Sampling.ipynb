{
  "nbformat": 4,
  "nbformat_minor": 0,
  "metadata": {
    "colab": {
      "provenance": []
    },
    "kernelspec": {
      "name": "python3",
      "display_name": "Python 3"
    },
    "language_info": {
      "name": "python"
    }
  },
  "cells": [
    {
      "cell_type": "markdown",
      "source": [
        "Load the dataset"
      ],
      "metadata": {
        "id": "sLpcdE-M1THP"
      }
    },
    {
      "cell_type": "code",
      "source": [
        "import pandas as pd\n",
        "import random\n",
        "import numpy as np\n",
        "df=pd.read_csv('/content/drive/MyDrive/Colab mount/Creditcard_data.csv')\n",
        "#df.head()"
      ],
      "metadata": {
        "id": "SLOvz110q7lP"
      },
      "execution_count": 1,
      "outputs": []
    },
    {
      "cell_type": "markdown",
      "source": [
        "Repose and Target variable"
      ],
      "metadata": {
        "id": "7tWkHy-y1YeC"
      }
    },
    {
      "cell_type": "code",
      "source": [
        "x = df.iloc[:, :-1]\n",
        "y = df.iloc[:, -1]"
      ],
      "metadata": {
        "id": "Ty2pdYns0-Ut"
      },
      "execution_count": 2,
      "outputs": []
    },
    {
      "cell_type": "markdown",
      "source": [
        "Check the number of 1's and 0's"
      ],
      "metadata": {
        "id": "SRopnsOu1pUt"
      }
    },
    {
      "cell_type": "code",
      "source": [
        "count = df['Class'].value_counts()\n",
        "\n",
        "print('Fraudulent \"1\" :', count[1])\n",
        "print('Not Fraudulent \"0\":', count[0])\n",
        "\n",
        "# print the percentage of question where target == 1\n",
        "print(count[1]/count[0]* 100)"
      ],
      "metadata": {
        "colab": {
          "base_uri": "https://localhost:8080/"
        },
        "id": "o2F8CZCW0Dju",
        "outputId": "22ee03bc-6064-465b-c08c-72ac35bb042d"
      },
      "execution_count": 3,
      "outputs": [
        {
          "output_type": "stream",
          "name": "stdout",
          "text": [
            "Fraudulent \"1\" : 9\n",
            "Not Fraudulent \"0\": 763\n",
            "1.1795543905635648\n"
          ]
        }
      ]
    },
    {
      "cell_type": "markdown",
      "source": [
        "Plot the no of 1's and 0's"
      ],
      "metadata": {
        "id": "GDct9oup18LN"
      }
    },
    {
      "cell_type": "code",
      "source": [
        "import seaborn as sns\n",
        "import matplotlib.pyplot as plt \n",
        "g = sns.countplot(df['Class'])\n",
        "g.set_xticklabels(['Not Fraud', 'Fraud'])\n",
        "plt.show()"
      ],
      "metadata": {
        "colab": {
          "base_uri": "https://localhost:8080/",
          "height": 338
        },
        "id": "3Js-HwGj0SX0",
        "outputId": "9f942281-8b51-44f6-d8b3-cdbde0c3ba21"
      },
      "execution_count": 4,
      "outputs": [
        {
          "output_type": "stream",
          "name": "stderr",
          "text": [
            "/usr/local/lib/python3.8/dist-packages/seaborn/_decorators.py:36: FutureWarning: Pass the following variable as a keyword arg: x. From version 0.12, the only valid positional argument will be `data`, and passing other arguments without an explicit keyword will result in an error or misinterpretation.\n",
            "  warnings.warn(\n"
          ]
        },
        {
          "output_type": "display_data",
          "data": {
            "text/plain": [
              "<Figure size 432x288 with 1 Axes>"
            ],
            "image/png": "[encoded data removed]"
          },
          "metadata": {
            "needs_background": "light"
          }
        }
      ]
    },
    {
      "cell_type": "markdown",
      "source": [
        "**Resampling Techniques** (oversampling the minority class)"
      ],
      "metadata": {
        "id": "Wk2mrRM810cl"
      }
    },
    {
      "cell_type": "markdown",
      "source": [
        "1) Random Over Sampling\n"
      ],
      "metadata": {
        "id": "GChIc1Wx2N8B"
      }
    },
    {
      "cell_type": "code",
      "source": [
        "from imblearn.over_sampling import RandomOverSampler\n",
        "from collections import Counter\n",
        "\n",
        "ros = RandomOverSampler(random_state=42)\n",
        "\n",
        "# fit predictor and target variable\n",
        "x_ros, y_ros = ros.fit_resample(x, y)\n",
        "\n",
        "print('Original dataset shape', Counter(y))\n",
        "print('Resample dataset shape', Counter(y_ros))"
      ],
      "metadata": {
        "colab": {
          "base_uri": "https://localhost:8080/"
        },
        "id": "RAiDa4Q2tKFB",
        "outputId": "a2ea1796-8681-4cfa-cc98-44e49df442d7"
      },
      "execution_count": 5,
      "outputs": [
        {
          "output_type": "stream",
          "name": "stdout",
          "text": [
            "Original dataset shape Counter({0: 763, 1: 9})\n",
            "Resample dataset shape Counter({0: 763, 1: 763})\n"
          ]
        }
      ]
    },
    {
      "cell_type": "code",
      "source": [
        "x_ros['Class']=y_ros\n",
        "# x_ros.head()"
      ],
      "metadata": {
        "id": "IZ6IfvptiN7R"
      },
      "execution_count": 6,
      "outputs": []
    },
    {
      "cell_type": "markdown",
      "source": [
        "2) Synthetic minority over-sampling technique"
      ],
      "metadata": {
        "id": "avLAnAuy2cIP"
      }
    },
    {
      "cell_type": "code",
      "source": [
        "from imblearn.over_sampling import SMOTE\n",
        "\n",
        "smote = SMOTE()\n",
        "\n",
        "# fit predictor and target variable\n",
        "x_smote, y_smote = smote.fit_resample(x, y)\n",
        "\n",
        "print('Original dataset shape', Counter(y))\n",
        "print('Resample dataset shape', Counter(y_ros))"
      ],
      "metadata": {
        "colab": {
          "base_uri": "https://localhost:8080/"
        },
        "id": "EMYTGA62xrsm",
        "outputId": "760f878f-2a77-4e80-b769-2877b35a90ad"
      },
      "execution_count": 7,
      "outputs": [
        {
          "output_type": "stream",
          "name": "stdout",
          "text": [
            "Original dataset shape Counter({0: 763, 1: 9})\n",
            "Resample dataset shape Counter({0: 763, 1: 763})\n"
          ]
        }
      ]
    },
    {
      "cell_type": "markdown",
      "source": [
        "**Sampling**"
      ],
      "metadata": {
        "id": "kwnZ2zjmz0EE"
      }
    },
    {
      "cell_type": "markdown",
      "source": [
        "1) Random Sampling"
      ],
      "metadata": {
        "id": "reaUYVhuy-TU"
      }
    },
    {
      "cell_type": "code",
      "source": [
        "Z=1.96\n",
        "p=0.5\n",
        "E=0.10\n",
        "n1=round((Z*Z*p*(1-p))/(E*E))\n",
        "# print(n1)\n",
        "sample_1 = x_ros.sample(n=n1, random_state=0)\n",
        "# sample_1"
      ],
      "metadata": {
        "id": "KD-5TdJLyoWA"
      },
      "execution_count": 8,
      "outputs": []
    },
    {
      "cell_type": "markdown",
      "source": [
        "2) Stratified Sampling"
      ],
      "metadata": {
        "id": "PLuPlDEezSb9"
      }
    },
    {
      "cell_type": "code",
      "source": [
        "Z=1.96\n",
        "p=0.5\n",
        "E=0.10\n",
        "S=2\n",
        "n2=round((Z*Z*p*(1-p))/(E/S)**2)\n",
        "# print(n2)\n",
        "\n",
        "# Disproportionate sampling:\n",
        "# randomly select n2/2 samples from each stratum\n",
        "n2=int(n2/2)\n",
        "sample_2=x_ros.groupby('Class', group_keys=False).apply(lambda x: x.sample(n2))\n",
        "# sample_2"
      ],
      "metadata": {
        "id": "VZuP0qtTzVEH"
      },
      "execution_count": 9,
      "outputs": []
    },
    {
      "cell_type": "markdown",
      "source": [
        "3) Systematic Sampling"
      ],
      "metadata": {
        "id": "cZnIlDMsy5bl"
      }
    },
    {
      "cell_type": "code",
      "source": [
        "size_systematic_sample = n1\n",
        "number=len(x_ros)\n",
        "# Interval (Gap) taken\n",
        "interval = round(number // size_systematic_sample)\n",
        " \n",
        "# Choosing Random Starting Point\n",
        "random_number = random.randint(1, interval)\n",
        " \n",
        "# Define systematic sampling function\n",
        "def systematic_sampling(df, step):\n",
        " \n",
        "    indexes = np.arange(random_number, len(df)-1, step=step)\n",
        "    systematic_sample = df.iloc[indexes]\n",
        "    return systematic_sample\n",
        " \n",
        " \n",
        "# Obtain a systematic sample and save it in a new variable\n",
        "sample_3 = systematic_sampling(x_ros, interval)\n",
        "# sample_3"
      ],
      "metadata": {
        "id": "m8VOi0N2xsuy"
      },
      "execution_count": 10,
      "outputs": []
    },
    {
      "cell_type": "markdown",
      "source": [
        "4) Cluster Sampling"
      ],
      "metadata": {
        "id": "cdCwn_0GB0-S"
      }
    },
    {
      "cell_type": "code",
      "source": [
        "Z=1.96\n",
        "p=0.5\n",
        "E=0.10\n",
        "C=2\n",
        "n4=round((Z*Z*p*(1-p))/(E/C)**2)\n",
        "df = x_ros\n",
        "n_per_cluster = 192\n",
        "num_select_clusters = C\n",
        "\n",
        "N = len(df)\n",
        "K = int(N/n_per_cluster)\n",
        "data = None\n",
        "for k in range(K):\n",
        "    sample_k = df.sample(n_per_cluster)\n",
        "    sample_k[\"cluster\"] = np.repeat(k,len(sample_k))\n",
        "    df = df.drop(index = sample_k.index)\n",
        "    data = pd.concat([data,sample_k],axis = 0)\n",
        "\n",
        "random_chosen_clusters = np.random.randint(0,K,size = num_select_clusters)\n",
        "sample_4 = data[data.cluster.isin(random_chosen_clusters)]\n",
        "\n",
        "sample_4=sample_4.iloc[:, :-1]\n",
        "# sample_4"
      ],
      "metadata": {
        "id": "-7B2ErjNAJW9"
      },
      "execution_count": 11,
      "outputs": []
    },
    {
      "cell_type": "markdown",
      "source": [
        "5) Convenience Sampling"
      ],
      "metadata": {
        "id": "2gqVGKPrZmfw"
      }
    },
    {
      "cell_type": "code",
      "source": [
        "sorted_x_ros = x_ros.sort_values(['Amount', 'Time'],ascending = [True, True])\n",
        "sample_size = 100\n",
        "sample = sorted_x_ros.iloc[:,25:sample_size]\n",
        "sample_5=sample.iloc[:,1:]"
      ],
      "metadata": {
        "id": "7_4DlwlraDyu"
      },
      "execution_count": 12,
      "outputs": []
    },
    {
      "cell_type": "markdown",
      "source": [
        "**Model Evaluation**"
      ],
      "metadata": {
        "id": "Un-EkpVfwAD8"
      }
    },
    {
      "cell_type": "code",
      "source": [
        "from sklearn.model_selection import train_test_split\n",
        "from sklearn.preprocessing import StandardScaler\n",
        "from sklearn.metrics import accuracy_score\n",
        "from sklearn.linear_model import LogisticRegression\n",
        "from sklearn.svm import LinearSVC\n",
        "from sklearn.tree import DecisionTreeClassifier\n",
        "from sklearn.ensemble import RandomForestClassifier\n",
        "from sklearn.naive_bayes import GaussianNB\n",
        "from sklearn.neighbors import KNeighborsClassifier"
      ],
      "metadata": {
        "id": "IxXgBNaQ4zMb"
      },
      "execution_count": 13,
      "outputs": []
    },
    {
      "cell_type": "code",
      "source": [
        "sample=[sample_1,sample_2,sample_3,sample_4,sample_5]\n",
        "# sample[i]"
      ],
      "metadata": {
        "id": "KT71LiF59thJ"
      },
      "execution_count": 14,
      "outputs": []
    },
    {
      "cell_type": "code",
      "source": [
        "models = {}\n",
        "# Logistic Regression\n",
        "models['Logistic Regression'] = LogisticRegression()\n",
        "\n",
        "# Support Vector Machines\n",
        "models['Support Vector Machines'] = LinearSVC()\n",
        "\n",
        "# Decision Trees\n",
        "models['Decision Trees'] = DecisionTreeClassifier()\n",
        "\n",
        "# Random Forest\n",
        "models['Random Forest'] = RandomForestClassifier()\n",
        "\n",
        "# Naive Bayes\n",
        "models['Naive Bayes'] = GaussianNB()\n",
        "\n",
        "# K-Nearest Neighbors\n",
        "models['K-Nearest Neighbor'] = KNeighborsClassifier()"
      ],
      "metadata": {
        "id": "or6SgWBP9YsI"
      },
      "execution_count": 15,
      "outputs": []
    },
    {
      "cell_type": "code",
      "source": [
        "df_model = pd.DataFrame(index=models.keys())\n",
        "#iterating over all samples\n",
        "for i in range(0,5):\n",
        "  \n",
        "  #Split the dataset into training and testing sets\n",
        "  X= sample[i].iloc[:, :-1]\n",
        "  y = sample[i].iloc[:, -1]\n",
        "  X_train, X_test, y_train, y_test = train_test_split(X, y , test_size=0.30, random_state=0)\n",
        "\n",
        "  #Normalize the data for numerical stability\n",
        "  ss_train = StandardScaler()\n",
        "  X_train = ss_train.fit_transform(X_train)\n",
        "  ss_test = StandardScaler()\n",
        "  X_test = ss_test.fit_transform(X_test)\n",
        "\n",
        "  #Performance evaluation of each binary classifier\n",
        "  accuracy = {}\n",
        "  for key in models.keys():\n",
        "      \n",
        "      # Fit the classifier\n",
        "      models[key].fit(X_train, y_train)\n",
        "      \n",
        "      # Make predictions\n",
        "      predictions = models[key].predict(X_test)\n",
        "      \n",
        "      # Calculate metrics\n",
        "      accuracy[key] = accuracy_score(predictions, y_test)\n",
        "\n",
        "  df_model['Sample '+str(i+1)] = accuracy.values()\n",
        "\n",
        "df_model"
      ],
      "metadata": {
        "colab": {
          "base_uri": "https://localhost:8080/",
          "height": 307
        },
        "id": "uaUSfEWJ4bnH",
        "outputId": "39539f1c-922c-4af1-e9fc-2e5e6a708659"
      },
      "execution_count": 16,
      "outputs": [
        {
          "output_type": "stream",
          "name": "stderr",
          "text": [
            "/usr/local/lib/python3.8/dist-packages/sklearn/svm/_base.py:1206: ConvergenceWarning: Liblinear failed to converge, increase the number of iterations.\n",
            "  warnings.warn(\n",
            "/usr/local/lib/python3.8/dist-packages/sklearn/svm/_base.py:1206: ConvergenceWarning: Liblinear failed to converge, increase the number of iterations.\n",
            "  warnings.warn(\n"
          ]
        },
        {
          "output_type": "execute_result",
          "data": {
            "text/plain": [
              "                         Sample 1  Sample 2  Sample 3  Sample 4  Sample 5\n",
              "Logistic Regression      0.896552  0.844828  0.741935  0.931034  0.676856\n",
              "Support Vector Machines  0.862069  0.577586  0.806452  0.948276  0.683406\n",
              "Decision Trees           0.620690  0.534483  0.838710  0.681034  0.495633\n",
              "Random Forest            0.896552  0.612069  0.967742  0.844828  0.497817\n",
              "Naive Bayes              0.241379  0.818966  0.483871  0.758621  0.517467\n",
              "K-Nearest Neighbor       0.689655  0.956897  0.774194  0.939655  0.903930"
            ],
            "text/html": [
              "\n",
              "  <div id=\"df-65045e11-8bff-4d17-ae79-535e1fe5db62\">\n",
              "    <div class=\"colab-df-container\">\n",
              "      <div>\n",
              "<style scoped>\n",
              "    .dataframe tbody tr th:only-of-type {\n",
              "        vertical-align: middle;\n",
              "    }\n",
              "\n",
              "    .dataframe tbody tr th {\n",
              "        vertical-align: top;\n",
              "    }\n",
              "\n",
              "    .dataframe thead th {\n",
              "        text-align: right;\n",
              "    }\n",
              "</style>\n",
              "<table border=\"1\" class=\"dataframe\">\n",
              "  <thead>\n",
              "    <tr style=\"text-align: right;\">\n",
              "      <th></th>\n",
              "      <th>Sample 1</th>\n",
              "      <th>Sample 2</th>\n",
              "      <th>Sample 3</th>\n",
              "      <th>Sample 4</th>\n",
              "      <th>Sample 5</th>\n",
              "    </tr>\n",
              "  </thead>\n",
              "  <tbody>\n",
              "    <tr>\n",
              "      <th>Logistic Regression</th>\n",
              "      <td>0.896552</td>\n",
              "      <td>0.844828</td>\n",
              "      <td>0.741935</td>\n",
              "      <td>0.931034</td>\n",
              "      <td>0.676856</td>\n",
              "    </tr>\n",
              "    <tr>\n",
              "      <th>Support Vector Machines</th>\n",
              "      <td>0.862069</td>\n",
              "      <td>0.577586</td>\n",
              "      <td>0.806452</td>\n",
              "      <td>0.948276</td>\n",
              "      <td>0.683406</td>\n",
              "    </tr>\n",
              "    <tr>\n",
              "      <th>Decision Trees</th>\n",
              "      <td>0.620690</td>\n",
              "      <td>0.534483</td>\n",
              "      <td>0.838710</td>\n",
              "      <td>0.681034</td>\n",
              "      <td>0.495633</td>\n",
              "    </tr>\n",
              "    <tr>\n",
              "      <th>Random Forest</th>\n",
              "      <td>0.896552</td>\n",
              "      <td>0.612069</td>\n",
              "      <td>0.967742</td>\n",
              "      <td>0.844828</td>\n",
              "      <td>0.497817</td>\n",
              "    </tr>\n",
              "    <tr>\n",
              "      <th>Naive Bayes</th>\n",
              "      <td>0.241379</td>\n",
              "      <td>0.818966</td>\n",
              "      <td>0.483871</td>\n",
              "      <td>0.758621</td>\n",
              "      <td>0.517467</td>\n",
              "    </tr>\n",
              "    <tr>\n",
              "      <th>K-Nearest Neighbor</th>\n",
              "      <td>0.689655</td>\n",
              "      <td>0.956897</td>\n",
              "      <td>0.774194</td>\n",
              "      <td>0.939655</td>\n",
              "      <td>0.903930</td>\n",
              "    </tr>\n",
              "  </tbody>\n",
              "</table>\n",
              "</div>\n",
              "      <button class=\"colab-df-convert\" onclick=\"convertToInteractive('df-65045e11-8bff-4d17-ae79-535e1fe5db62')\"\n",
              "              title=\"Convert this dataframe to an interactive table.\"\n",
              "              style=\"display:none;\">\n",
              "        \n",
              "  <svg xmlns=\"http://www.w3.org/2000/svg\" height=\"24px\"viewBox=\"0 0 24 24\"\n",
              "       width=\"24px\">\n",
              "    <path d=\"M0 0h24v24H0V0z\" fill=\"none\"/>\n",
              "    <path d=\"M18.56 5.44l.94 2.06.94-2.06 2.06-.94-2.06-.94-.94-2.06-.94 2.06-2.06.94zm-11 1L8.5 8.5l.94-2.06 2.06-.94-2.06-.94L8.5 2.5l-.94 2.06-2.06.94zm10 10l.94 2.06.94-2.06 2.06-.94-2.06-.94-.94-2.06-.94 2.06-2.06.94z\"/><path d=\"M17.41 7.96l-1.37-1.37c-.4-.4-.92-.59-1.43-.59-.52 0-1.04.2-1.43.59L10.3 9.45l-7.72 7.72c-.78.78-.78 2.05 0 2.83L4 21.41c.39.39.9.59 1.41.59.51 0 1.02-.2 1.41-.59l7.78-7.78 2.81-2.81c.8-.78.8-2.07 0-2.86zM5.41 20L4 18.59l7.72-7.72 1.47 1.35L5.41 20z\"/>\n",
              "  </svg>\n",
              "      </button>\n",
              "      \n",
              "  <style>\n",
              "    .colab-df-container {\n",
              "      display:flex;\n",
              "      flex-wrap:wrap;\n",
              "      gap: 12px;\n",
              "    }\n",
              "\n",
              "    .colab-df-convert {\n",
              "      background-color: #E8F0FE;\n",
              "      border: none;\n",
              "      border-radius: 50%;\n",
              "      cursor: pointer;\n",
              "      display: none;\n",
              "      fill: #1967D2;\n",
              "      height: 32px;\n",
              "      padding: 0 0 0 0;\n",
              "      width: 32px;\n",
              "    }\n",
              "\n",
              "    .colab-df-convert:hover {\n",
              "      background-color: #E2EBFA;\n",
              "      box-shadow: 0px 1px 2px rgba(60, 64, 67, 0.3), 0px 1px 3px 1px rgba(60, 64, 67, 0.15);\n",
              "      fill: #174EA6;\n",
              "    }\n",
              "\n",
              "    [theme=dark] .colab-df-convert {\n",
              "      background-color: #3B4455;\n",
              "      fill: #D2E3FC;\n",
              "    }\n",
              "\n",
              "    [theme=dark] .colab-df-convert:hover {\n",
              "      background-color: #434B5C;\n",
              "      box-shadow: 0px 1px 3px 1px rgba(0, 0, 0, 0.15);\n",
              "      filter: drop-shadow(0px 1px 2px rgba(0, 0, 0, 0.3));\n",
              "      fill: #FFFFFF;\n",
              "    }\n",
              "  </style>\n",
              "\n",
              "      <script>\n",
              "        const buttonEl =\n",
              "          document.querySelector('#df-65045e11-8bff-4d17-ae79-535e1fe5db62 button.colab-df-convert');\n",
              "        buttonEl.style.display =\n",
              "          google.colab.kernel.accessAllowed ? 'block' : 'none';\n",
              "\n",
              "        async function convertToInteractive(key) {\n",
              "          const element = document.querySelector('#df-65045e11-8bff-4d17-ae79-535e1fe5db62');\n",
              "          const dataTable =\n",
              "            await google.colab.kernel.invokeFunction('convertToInteractive',\n",
              "                                                     [key], {});\n",
              "          if (!dataTable) return;\n",
              "\n",
              "          const docLinkHtml = 'Like what you see? Visit the ' +\n",
              "            '<a target=\"_blank\" href=https://colab.research.google.com/notebooks/data_table.ipynb>data table notebook</a>'\n",
              "            + ' to learn more about interactive tables.';\n",
              "          element.innerHTML = '';\n",
              "          dataTable['output_type'] = 'display_data';\n",
              "          await google.colab.output.renderOutput(dataTable, element);\n",
              "          const docLink = document.createElement('div');\n",
              "          docLink.innerHTML = docLinkHtml;\n",
              "          element.appendChild(docLink);\n",
              "        }\n",
              "      </script>\n",
              "    </div>\n",
              "  </div>\n",
              "  "
            ]
          },
          "metadata": {},
          "execution_count": 16
        }
      ]
    },
    {
      "cell_type": "markdown",
      "source": [
        "**Conclusion**"
      ],
      "metadata": {
        "id": "icKBqo9UC968"
      }
    },
    {
      "cell_type": "code",
      "source": [
        "ax = df_model.plot.barh()\n",
        "ax.legend(\n",
        "    ncol=len(models.keys()), \n",
        "    bbox_to_anchor=(0, 1), \n",
        "    loc='lower left', \n",
        "    prop={'size': 20}\n",
        ")\n",
        "plt.tight_layout()"
      ],
      "metadata": {
        "colab": {
          "base_uri": "https://localhost:8080/",
          "height": 365
        },
        "id": "ebHy5PIA-QUF",
        "outputId": "e8f38f6f-0502-40c6-9860-a91127afd93d"
      },
      "execution_count": 17,
      "outputs": [
        {
          "output_type": "stream",
          "name": "stderr",
          "text": [
            "<ipython-input-17-f8946d5f4198>:8: UserWarning: Tight layout not applied. The left and right margins cannot be made large enough to accommodate all axes decorations. \n",
            "  plt.tight_layout()\n"
          ]
        },
        {
          "output_type": "display_data",
          "data": {
            "text/plain": [
              "<Figure size 432x288 with 1 Axes>"
            ],
            "image/png": "[encoded data removed]"
          },
          "metadata": {
            "needs_background": "light"
          }
        }
      ]
    }
  ]
}